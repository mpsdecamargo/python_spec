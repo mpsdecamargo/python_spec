{
  "nbformat": 4,
  "nbformat_minor": 0,
  "metadata": {
    "colab": {
      "provenance": [],
      "authorship_tag": "ABX9TyNDgqwaSd29ftHk5IZxfDvP",
      "include_colab_link": true
    },
    "kernelspec": {
      "name": "python3",
      "display_name": "Python 3"
    },
    "language_info": {
      "name": "python"
    }
  },
  "cells": [
    {
      "cell_type": "markdown",
      "metadata": {
        "id": "view-in-github",
        "colab_type": "text"
      },
      "source": [
        "<a href=\"https://colab.research.google.com/github/mpsdecamargo/python_spec/blob/main/Marcos_de_Camargo_Specialisterne.ipynb\" target=\"_parent\"><img src=\"https://colab.research.google.com/assets/colab-badge.svg\" alt=\"Open In Colab\"/></a>"
      ]
    },
    {
      "cell_type": "markdown",
      "source": [],
      "metadata": {
        "id": "EBArhuo-JJDA"
      }
    },
    {
      "cell_type": "code",
      "source": [],
      "metadata": {
        "id": "S3S4alFOJKmA"
      },
      "execution_count": null,
      "outputs": []
    }
  ]
}